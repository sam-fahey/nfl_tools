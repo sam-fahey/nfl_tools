{
 "cells": [
  {
   "cell_type": "code",
   "execution_count": 1,
   "metadata": {},
   "outputs": [],
   "source": [
    "import requests, json\n",
    "import numpy as np"
   ]
  },
  {
   "cell_type": "code",
   "execution_count": 2,
   "metadata": {},
   "outputs": [],
   "source": [
    "html = requests.get(\"https://www.nfl.com/standings/division/2010/REG\")\n",
    "cont = str(html.content)\n",
    "standings_raw = ((cont.split(\"teamRecords\")[1][2:]).split(\"]\")[0])+\"]\"\n",
    "data = json.loads(standings_raw)"
   ]
  },
  {
   "cell_type": "code",
   "execution_count": 3,
   "metadata": {},
   "outputs": [],
   "source": [
    "seed_wins = {}\n",
    "for i in range(16):\n",
    "    seed_wins[\"%i\"%(i+1)] = []\n",
    "    \n",
    "for year in range(2008, 2019):\n",
    "\n",
    "    site = \"https://www.nfl.com/standings/division/%i/REG\"%year\n",
    "    html = requests.get(site)\n",
    "    content = str(html.content)\n",
    "    standings_raw = ((content.split(\"teamRecords\")[1][2:]).split(\"]\")[0])+\"]\"\n",
    "    standings_data = json.loads(standings_raw)\n",
    "    \n",
    "    for team in standings_data:\n",
    "        wins = team[\"overallWin\"] + 0.5*team[\"overallTie\"]\n",
    "        seed = team[\"conferenceRank\"]\n",
    "        seed_wins[\"%i\"%seed].append(wins)"
   ]
  },
  {
   "cell_type": "code",
   "execution_count": 4,
   "metadata": {},
   "outputs": [
    {
     "name": "stdout",
     "output_type": "stream",
     "text": [
      "1 13.0909090909 0.847943550281\n",
      "2 12.1136363636 0.638389632054\n",
      "3 10.9318181818 0.829778921069\n",
      "4 9.40909090909 1.08330684435\n",
      "5 10.9318181818 0.882860209071\n",
      "6 9.93181818182 0.711839080153\n",
      "7 9.13636363636 0.77138921584\n",
      "8 8.38636363636 0.767697534275\n",
      "9 7.84090909091 0.628605303906\n",
      "10 7.40909090909 0.763311619261\n",
      "11 6.75 0.598293026413\n"
     ]
    }
   ],
   "source": [
    "for seed in range(1,12):\n",
    "    if len(seed_wins[\"%i\"%seed]) != 22: print(\"no!\")\n",
    "    print(seed, np.mean(seed_wins[\"%i\"%seed]), np.std(seed_wins[\"%i\"%seed]))"
   ]
  },
  {
   "cell_type": "code",
   "execution_count": null,
   "metadata": {},
   "outputs": [],
   "source": [
    "def bimodal()"
   ]
  }
 ],
 "metadata": {
  "kernelspec": {
   "display_name": "Python 3",
   "language": "python",
   "name": "python3"
  },
  "language_info": {
   "codemirror_mode": {
    "name": "ipython",
    "version": 3
   },
   "file_extension": ".py",
   "mimetype": "text/x-python",
   "name": "python",
   "nbconvert_exporter": "python",
   "pygments_lexer": "ipython3",
   "version": "3.6.8"
  }
 },
 "nbformat": 4,
 "nbformat_minor": 2
}
